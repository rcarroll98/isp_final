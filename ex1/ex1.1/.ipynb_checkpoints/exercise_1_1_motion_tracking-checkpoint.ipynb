{
 "cells": [
  {
   "cell_type": "markdown",
   "id": "302f03c2",
   "metadata": {},
   "source": [
    "# Exercise 1.1 – Motion Detection and Tracking\n",
    "This notebook detects and tracks moving cars in `Traffic_Laramie_1.mp4` using frame differencing and background subtraction."
   ]
  },
  {
   "cell_type": "code",
   "execution_count": 1,
   "id": "656924b1",
   "metadata": {},
   "outputs": [
    {
     "name": "stdout",
     "output_type": "stream",
     "text": [
      "Requirement already satisfied: opencv-python-headless in /home/r/dev/school/isp_final/.venv/lib/python3.12/site-packages (4.12.0.88)\n",
      "Requirement already satisfied: Pillow in /home/r/dev/school/isp_final/.venv/lib/python3.12/site-packages (11.3.0)\n",
      "Requirement already satisfied: numpy in /home/r/dev/school/isp_final/.venv/lib/python3.12/site-packages (2.2.6)\n"
     ]
    }
   ],
   "source": [
    "!pip install opencv-python-headless Pillow numpy"
   ]
  },
  {
   "cell_type": "code",
   "execution_count": 2,
   "id": "54400814",
   "metadata": {},
   "outputs": [],
   "source": [
    "import cv2\n",
    "import numpy as np\n",
    "from IPython.display import display, clear_output\n",
    "import PIL.Image\n",
    "import time\n"
   ]
  },
  {
   "cell_type": "markdown",
   "id": "9ad2f650",
   "metadata": {},
   "source": [
    "## Parameters\n",
    "We define constants for the region of interest (ROI), baseline building, and motion detection."
   ]
  },
  {
   "cell_type": "code",
   "execution_count": 3,
   "id": "d1c4cd24",
   "metadata": {},
   "outputs": [],
   "source": [
    "VIDEO = \"Traffic_Laramie_1.mp4\"\n",
    "ROI_FRAC = (0.45, 0.90, 0.10, 0.90)\n",
    "N_BASELINE = 90\n",
    "BLUR_K = 21\n",
    "DIFF_THRESH = 30\n",
    "MIN_AREA = 1700\n",
    "ALPHA_SMOOTH = 0.92\n",
    "WRITE_OUT = True\n"
   ]
  },
  {
   "cell_type": "markdown",
   "id": "077a95a0",
   "metadata": {},
   "source": [
    "## Helper Functions\n",
    "These functions handle image preprocessing and ROI extraction."
   ]
  },
  {
   "cell_type": "code",
   "execution_count": 4,
   "id": "fa71d2cd",
   "metadata": {},
   "outputs": [],
   "source": [
    "def extract_roi(frame):\n",
    "    h, w = frame.shape[:2]\n",
    "    y1, y2, x1, x2 = ROI_FRAC\n",
    "    Y1, Y2, X1, X2 = int(y1*h), int(y2*h), int(x1*w), int(x2*w)\n",
    "    return frame[Y1:Y2, X1:X2], (Y1, X1)\n",
    "\n",
    "def to_gray_blur(img):\n",
    "    g = cv2.cvtColor(img, cv2.COLOR_BGR2GRAY)\n",
    "    return cv2.GaussianBlur(g, (BLUR_K, BLUR_K), 0)\n"
   ]
  },
  {
   "cell_type": "markdown",
   "id": "8e52faec",
   "metadata": {},
   "source": [
    "## Build Baseline\n",
    "We take the median of the first 90 ROI frames to create a stable background model."
   ]
  },
  {
   "cell_type": "code",
   "execution_count": 5,
   "id": "e0a3963b",
   "metadata": {},
   "outputs": [],
   "source": [
    "cap = cv2.VideoCapture(VIDEO)\n",
    "if not cap.isOpened():\n",
    "    raise RuntimeError(f\"Could not open {VIDEO}\")\n",
    "\n",
    "gray_stack = []\n",
    "while len(gray_stack) < N_BASELINE:\n",
    "    ok, f = cap.read()\n",
    "    if not ok:\n",
    "        break\n",
    "    roi, _ = extract_roi(f)\n",
    "    gray_stack.append(to_gray_blur(roi))\n",
    "\n",
    "if not gray_stack:\n",
    "    raise RuntimeError(\"No frames read to build baseline.\")\n",
    "\n",
    "baseline = np.median(np.stack(gray_stack, axis=0), axis=0).astype(np.uint8)\n",
    "cap.set(cv2.CAP_PROP_POS_FRAMES, 0)\n",
    "\n",
    "fps = cap.get(cv2.CAP_PROP_FPS) or 25\n",
    "w = int(cap.get(cv2.CAP_PROP_FRAME_WIDTH))\n",
    "h = int(cap.get(cv2.CAP_PROP_FRAME_HEIGHT))\n",
    "\n",
    "if WRITE_OUT:\n",
    "    fourcc = cv2.VideoWriter_fourcc(*'mp4v')\n",
    "    out = cv2.VideoWriter(VIDEO.replace(\".mp4\",\"_tracked.mp4\"), fourcc, fps, (w, h))\n"
   ]
  },
  {
   "cell_type": "markdown",
   "id": "95bbcef3",
   "metadata": {},
   "source": [
    "## Main Processing Loop\n",
    "We process each frame, extract the foreground mask, detect motion, and overlay the results."
   ]
  },
  {
   "cell_type": "code",
   "execution_count": 6,
   "id": "ac411b1b",
   "metadata": {},
   "outputs": [
    {
     "ename": "KeyboardInterrupt",
     "evalue": "",
     "output_type": "error",
     "traceback": [
      "\u001b[31m---------------------------------------------------------------------------\u001b[39m",
      "\u001b[31mKeyboardInterrupt\u001b[39m                         Traceback (most recent call last)",
      "\u001b[36mCell\u001b[39m\u001b[36m \u001b[39m\u001b[32mIn[6]\u001b[39m\u001b[32m, line 34\u001b[39m\n\u001b[32m     32\u001b[39m img_pil = PIL.Image.fromarray(img_rgb)\n\u001b[32m     33\u001b[39m clear_output(wait=\u001b[38;5;28;01mTrue\u001b[39;00m)\n\u001b[32m---> \u001b[39m\u001b[32m34\u001b[39m \u001b[43mdisplay\u001b[49m\u001b[43m(\u001b[49m\u001b[43mimg_pil\u001b[49m\u001b[43m)\u001b[49m\n\u001b[32m     36\u001b[39m \u001b[38;5;28;01mif\u001b[39;00m WRITE_OUT:\n\u001b[32m     37\u001b[39m     out.write(frame)\n",
      "\u001b[36mFile \u001b[39m\u001b[32m~/dev/school/isp_final/.venv/lib/python3.12/site-packages/IPython/core/display_functions.py:285\u001b[39m, in \u001b[36mdisplay\u001b[39m\u001b[34m(include, exclude, metadata, transient, display_id, raw, clear, *objs, **kwargs)\u001b[39m\n\u001b[32m    282\u001b[39m         \u001b[38;5;28;01mif\u001b[39;00m metadata:\n\u001b[32m    283\u001b[39m             \u001b[38;5;66;03m# kwarg-specified metadata gets precedence\u001b[39;00m\n\u001b[32m    284\u001b[39m             _merge(md_dict, metadata)\n\u001b[32m--> \u001b[39m\u001b[32m285\u001b[39m         \u001b[43mpublish_display_data\u001b[49m\u001b[43m(\u001b[49m\u001b[43mdata\u001b[49m\u001b[43m=\u001b[49m\u001b[43mformat_dict\u001b[49m\u001b[43m,\u001b[49m\u001b[43m \u001b[49m\u001b[43mmetadata\u001b[49m\u001b[43m=\u001b[49m\u001b[43mmd_dict\u001b[49m\u001b[43m,\u001b[49m\u001b[43m \u001b[49m\u001b[43m*\u001b[49m\u001b[43m*\u001b[49m\u001b[43mkwargs\u001b[49m\u001b[43m)\u001b[49m\n\u001b[32m    286\u001b[39m \u001b[38;5;28;01mif\u001b[39;00m display_id:\n\u001b[32m    287\u001b[39m     \u001b[38;5;28;01mreturn\u001b[39;00m DisplayHandle(display_id)\n",
      "\u001b[36mFile \u001b[39m\u001b[32m~/dev/school/isp_final/.venv/lib/python3.12/site-packages/IPython/core/display_functions.py:73\u001b[39m, in \u001b[36mpublish_display_data\u001b[39m\u001b[34m(data, metadata, transient, **kwargs)\u001b[39m\n\u001b[32m     70\u001b[39m \u001b[38;5;28;01mif\u001b[39;00m transient:\n\u001b[32m     71\u001b[39m     kwargs[\u001b[33m'\u001b[39m\u001b[33mtransient\u001b[39m\u001b[33m'\u001b[39m] = transient\n\u001b[32m---> \u001b[39m\u001b[32m73\u001b[39m \u001b[43mdisplay_pub\u001b[49m\u001b[43m.\u001b[49m\u001b[43mpublish\u001b[49m\u001b[43m(\u001b[49m\n\u001b[32m     74\u001b[39m \u001b[43m    \u001b[49m\u001b[43mdata\u001b[49m\u001b[43m=\u001b[49m\u001b[43mdata\u001b[49m\u001b[43m,\u001b[49m\n\u001b[32m     75\u001b[39m \u001b[43m    \u001b[49m\u001b[43mmetadata\u001b[49m\u001b[43m=\u001b[49m\u001b[43mmetadata\u001b[49m\u001b[43m,\u001b[49m\n\u001b[32m     76\u001b[39m \u001b[43m    \u001b[49m\u001b[43m*\u001b[49m\u001b[43m*\u001b[49m\u001b[43mkwargs\u001b[49m\n\u001b[32m     77\u001b[39m \u001b[43m\u001b[49m\u001b[43m)\u001b[49m\n",
      "\u001b[36mFile \u001b[39m\u001b[32m~/dev/school/isp_final/.venv/lib/python3.12/site-packages/ipykernel/zmqshell.py:130\u001b[39m, in \u001b[36mZMQDisplayPublisher.publish\u001b[39m\u001b[34m(self, data, metadata, transient, update)\u001b[39m\n\u001b[32m    127\u001b[39m     \u001b[38;5;28;01mif\u001b[39;00m msg \u001b[38;5;129;01mis\u001b[39;00m \u001b[38;5;28;01mNone\u001b[39;00m:\n\u001b[32m    128\u001b[39m         \u001b[38;5;28;01mreturn\u001b[39;00m  \u001b[38;5;66;03m# type:ignore[unreachable]\u001b[39;00m\n\u001b[32m--> \u001b[39m\u001b[32m130\u001b[39m \u001b[38;5;28;43mself\u001b[39;49m\u001b[43m.\u001b[49m\u001b[43msession\u001b[49m\u001b[43m.\u001b[49m\u001b[43msend\u001b[49m\u001b[43m(\u001b[49m\n\u001b[32m    131\u001b[39m \u001b[43m    \u001b[49m\u001b[38;5;28;43mself\u001b[39;49m\u001b[43m.\u001b[49m\u001b[43mpub_socket\u001b[49m\u001b[43m,\u001b[49m\n\u001b[32m    132\u001b[39m \u001b[43m    \u001b[49m\u001b[43mmsg\u001b[49m\u001b[43m,\u001b[49m\n\u001b[32m    133\u001b[39m \u001b[43m    \u001b[49m\u001b[43mident\u001b[49m\u001b[43m=\u001b[49m\u001b[38;5;28;43mself\u001b[39;49m\u001b[43m.\u001b[49m\u001b[43mtopic\u001b[49m\u001b[43m,\u001b[49m\n\u001b[32m    134\u001b[39m \u001b[43m\u001b[49m\u001b[43m)\u001b[49m\n",
      "\u001b[36mFile \u001b[39m\u001b[32m~/dev/school/isp_final/.venv/lib/python3.12/site-packages/jupyter_client/session.py:852\u001b[39m, in \u001b[36mSession.send\u001b[39m\u001b[34m(self, stream, msg_or_type, content, parent, ident, buffers, track, header, metadata)\u001b[39m\n\u001b[32m    850\u001b[39m \u001b[38;5;28;01mif\u001b[39;00m \u001b[38;5;28mself\u001b[39m.adapt_version:\n\u001b[32m    851\u001b[39m     msg = adapt(msg, \u001b[38;5;28mself\u001b[39m.adapt_version)\n\u001b[32m--> \u001b[39m\u001b[32m852\u001b[39m to_send = \u001b[38;5;28;43mself\u001b[39;49m\u001b[43m.\u001b[49m\u001b[43mserialize\u001b[49m\u001b[43m(\u001b[49m\u001b[43mmsg\u001b[49m\u001b[43m,\u001b[49m\u001b[43m \u001b[49m\u001b[43mident\u001b[49m\u001b[43m)\u001b[49m\n\u001b[32m    853\u001b[39m to_send.extend(buffers)\n\u001b[32m    854\u001b[39m longest = \u001b[38;5;28mmax\u001b[39m([\u001b[38;5;28mlen\u001b[39m(s) \u001b[38;5;28;01mfor\u001b[39;00m s \u001b[38;5;129;01min\u001b[39;00m to_send])\n",
      "\u001b[36mFile \u001b[39m\u001b[32m~/dev/school/isp_final/.venv/lib/python3.12/site-packages/jupyter_client/session.py:732\u001b[39m, in \u001b[36mSession.serialize\u001b[39m\u001b[34m(self, msg, ident)\u001b[39m\n\u001b[32m    728\u001b[39m \u001b[38;5;28;01melse\u001b[39;00m:\n\u001b[32m    729\u001b[39m     \u001b[38;5;28;01mraise\u001b[39;00m \u001b[38;5;167;01mTypeError\u001b[39;00m(\u001b[33m\"\u001b[39m\u001b[33mContent incorrect type: \u001b[39m\u001b[38;5;132;01m%s\u001b[39;00m\u001b[33m\"\u001b[39m % \u001b[38;5;28mtype\u001b[39m(content))\n\u001b[32m    731\u001b[39m real_message = [\n\u001b[32m--> \u001b[39m\u001b[32m732\u001b[39m     \u001b[38;5;28;43mself\u001b[39;49m\u001b[43m.\u001b[49m\u001b[43mpack\u001b[49m\u001b[43m(\u001b[49m\u001b[43mmsg\u001b[49m\u001b[43m[\u001b[49m\u001b[33;43m\"\u001b[39;49m\u001b[33;43mheader\u001b[39;49m\u001b[33;43m\"\u001b[39;49m\u001b[43m]\u001b[49m\u001b[43m)\u001b[49m,\n\u001b[32m    733\u001b[39m     \u001b[38;5;28mself\u001b[39m.pack(msg[\u001b[33m\"\u001b[39m\u001b[33mparent_header\u001b[39m\u001b[33m\"\u001b[39m]),\n\u001b[32m    734\u001b[39m     \u001b[38;5;28mself\u001b[39m.pack(msg[\u001b[33m\"\u001b[39m\u001b[33mmetadata\u001b[39m\u001b[33m\"\u001b[39m]),\n\u001b[32m    735\u001b[39m     content,\n\u001b[32m    736\u001b[39m ]\n\u001b[32m    738\u001b[39m to_send = []\n\u001b[32m    740\u001b[39m \u001b[38;5;28;01mif\u001b[39;00m \u001b[38;5;28misinstance\u001b[39m(ident, \u001b[38;5;28mlist\u001b[39m):\n\u001b[32m    741\u001b[39m     \u001b[38;5;66;03m# accept list of idents\u001b[39;00m\n",
      "\u001b[36mFile \u001b[39m\u001b[32m~/dev/school/isp_final/.venv/lib/python3.12/site-packages/jupyter_client/session.py:95\u001b[39m, in \u001b[36mjson_packer\u001b[39m\u001b[34m(obj)\u001b[39m\n\u001b[32m     93\u001b[39m \u001b[38;5;250m\u001b[39m\u001b[33;03m\"\"\"Convert a json object to a bytes.\"\"\"\u001b[39;00m\n\u001b[32m     94\u001b[39m \u001b[38;5;28;01mtry\u001b[39;00m:\n\u001b[32m---> \u001b[39m\u001b[32m95\u001b[39m     \u001b[38;5;28;01mreturn\u001b[39;00m \u001b[43mjson\u001b[49m\u001b[43m.\u001b[49m\u001b[43mdumps\u001b[49m\u001b[43m(\u001b[49m\n\u001b[32m     96\u001b[39m \u001b[43m        \u001b[49m\u001b[43mobj\u001b[49m\u001b[43m,\u001b[49m\n\u001b[32m     97\u001b[39m \u001b[43m        \u001b[49m\u001b[43mdefault\u001b[49m\u001b[43m=\u001b[49m\u001b[43mjson_default\u001b[49m\u001b[43m,\u001b[49m\n\u001b[32m     98\u001b[39m \u001b[43m        \u001b[49m\u001b[43mensure_ascii\u001b[49m\u001b[43m=\u001b[49m\u001b[38;5;28;43;01mFalse\u001b[39;49;00m\u001b[43m,\u001b[49m\n\u001b[32m     99\u001b[39m \u001b[43m        \u001b[49m\u001b[43mallow_nan\u001b[49m\u001b[43m=\u001b[49m\u001b[38;5;28;43;01mFalse\u001b[39;49;00m\u001b[43m,\u001b[49m\n\u001b[32m    100\u001b[39m \u001b[43m    \u001b[49m\u001b[43m)\u001b[49m.encode(\u001b[33m\"\u001b[39m\u001b[33mutf8\u001b[39m\u001b[33m\"\u001b[39m, errors=\u001b[33m\"\u001b[39m\u001b[33msurrogateescape\u001b[39m\u001b[33m\"\u001b[39m)\n\u001b[32m    101\u001b[39m \u001b[38;5;28;01mexcept\u001b[39;00m (\u001b[38;5;167;01mTypeError\u001b[39;00m, \u001b[38;5;167;01mValueError\u001b[39;00m) \u001b[38;5;28;01mas\u001b[39;00m e:\n\u001b[32m    102\u001b[39m     \u001b[38;5;66;03m# Fallback to trying to clean the json before serializing\u001b[39;00m\n\u001b[32m    103\u001b[39m     packed = json.dumps(\n\u001b[32m    104\u001b[39m         json_clean(obj),\n\u001b[32m    105\u001b[39m         default=json_default,\n\u001b[32m    106\u001b[39m         ensure_ascii=\u001b[38;5;28;01mFalse\u001b[39;00m,\n\u001b[32m    107\u001b[39m         allow_nan=\u001b[38;5;28;01mFalse\u001b[39;00m,\n\u001b[32m    108\u001b[39m     ).encode(\u001b[33m\"\u001b[39m\u001b[33mutf8\u001b[39m\u001b[33m\"\u001b[39m, errors=\u001b[33m\"\u001b[39m\u001b[33msurrogateescape\u001b[39m\u001b[33m\"\u001b[39m)\n",
      "\u001b[36mFile \u001b[39m\u001b[32m/usr/lib/python3.12/json/__init__.py:238\u001b[39m, in \u001b[36mdumps\u001b[39m\u001b[34m(obj, skipkeys, ensure_ascii, check_circular, allow_nan, cls, indent, separators, default, sort_keys, **kw)\u001b[39m\n\u001b[32m    232\u001b[39m \u001b[38;5;28;01mif\u001b[39;00m \u001b[38;5;28mcls\u001b[39m \u001b[38;5;129;01mis\u001b[39;00m \u001b[38;5;28;01mNone\u001b[39;00m:\n\u001b[32m    233\u001b[39m     \u001b[38;5;28mcls\u001b[39m = JSONEncoder\n\u001b[32m    234\u001b[39m \u001b[38;5;28;01mreturn\u001b[39;00m \u001b[38;5;28;43mcls\u001b[39;49m\u001b[43m(\u001b[49m\n\u001b[32m    235\u001b[39m \u001b[43m    \u001b[49m\u001b[43mskipkeys\u001b[49m\u001b[43m=\u001b[49m\u001b[43mskipkeys\u001b[49m\u001b[43m,\u001b[49m\u001b[43m \u001b[49m\u001b[43mensure_ascii\u001b[49m\u001b[43m=\u001b[49m\u001b[43mensure_ascii\u001b[49m\u001b[43m,\u001b[49m\n\u001b[32m    236\u001b[39m \u001b[43m    \u001b[49m\u001b[43mcheck_circular\u001b[49m\u001b[43m=\u001b[49m\u001b[43mcheck_circular\u001b[49m\u001b[43m,\u001b[49m\u001b[43m \u001b[49m\u001b[43mallow_nan\u001b[49m\u001b[43m=\u001b[49m\u001b[43mallow_nan\u001b[49m\u001b[43m,\u001b[49m\u001b[43m \u001b[49m\u001b[43mindent\u001b[49m\u001b[43m=\u001b[49m\u001b[43mindent\u001b[49m\u001b[43m,\u001b[49m\n\u001b[32m    237\u001b[39m \u001b[43m    \u001b[49m\u001b[43mseparators\u001b[49m\u001b[43m=\u001b[49m\u001b[43mseparators\u001b[49m\u001b[43m,\u001b[49m\u001b[43m \u001b[49m\u001b[43mdefault\u001b[49m\u001b[43m=\u001b[49m\u001b[43mdefault\u001b[49m\u001b[43m,\u001b[49m\u001b[43m \u001b[49m\u001b[43msort_keys\u001b[49m\u001b[43m=\u001b[49m\u001b[43msort_keys\u001b[49m\u001b[43m,\u001b[49m\n\u001b[32m--> \u001b[39m\u001b[32m238\u001b[39m \u001b[43m    \u001b[49m\u001b[43m*\u001b[49m\u001b[43m*\u001b[49m\u001b[43mkw\u001b[49m\u001b[43m)\u001b[49m\u001b[43m.\u001b[49m\u001b[43mencode\u001b[49m\u001b[43m(\u001b[49m\u001b[43mobj\u001b[49m\u001b[43m)\u001b[49m\n",
      "\u001b[36mFile \u001b[39m\u001b[32m/usr/lib/python3.12/json/encoder.py:200\u001b[39m, in \u001b[36mJSONEncoder.encode\u001b[39m\u001b[34m(self, o)\u001b[39m\n\u001b[32m    196\u001b[39m         \u001b[38;5;28;01mreturn\u001b[39;00m encode_basestring(o)\n\u001b[32m    197\u001b[39m \u001b[38;5;66;03m# This doesn't pass the iterator directly to ''.join() because the\u001b[39;00m\n\u001b[32m    198\u001b[39m \u001b[38;5;66;03m# exceptions aren't as detailed.  The list call should be roughly\u001b[39;00m\n\u001b[32m    199\u001b[39m \u001b[38;5;66;03m# equivalent to the PySequence_Fast that ''.join() would do.\u001b[39;00m\n\u001b[32m--> \u001b[39m\u001b[32m200\u001b[39m chunks = \u001b[38;5;28;43mself\u001b[39;49m\u001b[43m.\u001b[49m\u001b[43miterencode\u001b[49m\u001b[43m(\u001b[49m\u001b[43mo\u001b[49m\u001b[43m,\u001b[49m\u001b[43m \u001b[49m\u001b[43m_one_shot\u001b[49m\u001b[43m=\u001b[49m\u001b[38;5;28;43;01mTrue\u001b[39;49;00m\u001b[43m)\u001b[49m\n\u001b[32m    201\u001b[39m \u001b[38;5;28;01mif\u001b[39;00m \u001b[38;5;129;01mnot\u001b[39;00m \u001b[38;5;28misinstance\u001b[39m(chunks, (\u001b[38;5;28mlist\u001b[39m, \u001b[38;5;28mtuple\u001b[39m)):\n\u001b[32m    202\u001b[39m     chunks = \u001b[38;5;28mlist\u001b[39m(chunks)\n",
      "\u001b[36mFile \u001b[39m\u001b[32m/usr/lib/python3.12/json/encoder.py:258\u001b[39m, in \u001b[36mJSONEncoder.iterencode\u001b[39m\u001b[34m(self, o, _one_shot)\u001b[39m\n\u001b[32m    253\u001b[39m \u001b[38;5;28;01melse\u001b[39;00m:\n\u001b[32m    254\u001b[39m     _iterencode = _make_iterencode(\n\u001b[32m    255\u001b[39m         markers, \u001b[38;5;28mself\u001b[39m.default, _encoder, \u001b[38;5;28mself\u001b[39m.indent, floatstr,\n\u001b[32m    256\u001b[39m         \u001b[38;5;28mself\u001b[39m.key_separator, \u001b[38;5;28mself\u001b[39m.item_separator, \u001b[38;5;28mself\u001b[39m.sort_keys,\n\u001b[32m    257\u001b[39m         \u001b[38;5;28mself\u001b[39m.skipkeys, _one_shot)\n\u001b[32m--> \u001b[39m\u001b[32m258\u001b[39m \u001b[38;5;28;01mreturn\u001b[39;00m \u001b[43m_iterencode\u001b[49m\u001b[43m(\u001b[49m\u001b[43mo\u001b[49m\u001b[43m,\u001b[49m\u001b[43m \u001b[49m\u001b[32;43m0\u001b[39;49m\u001b[43m)\u001b[49m\n",
      "\u001b[36mFile \u001b[39m\u001b[32m~/dev/school/isp_final/.venv/lib/python3.12/site-packages/jupyter_client/jsonutil.py:107\u001b[39m, in \u001b[36mjson_default\u001b[39m\u001b[34m(obj)\u001b[39m\n\u001b[32m     99\u001b[39m     warnings.warn(\n\u001b[32m    100\u001b[39m         \u001b[33m\"\u001b[39m\u001b[33mdate_default is deprecated since jupyter_client 7.0.0.\u001b[39m\u001b[33m\"\u001b[39m\n\u001b[32m    101\u001b[39m         \u001b[33m\"\u001b[39m\u001b[33m Use jupyter_client.jsonutil.json_default.\u001b[39m\u001b[33m\"\u001b[39m,\n\u001b[32m    102\u001b[39m         stacklevel=\u001b[32m2\u001b[39m,\n\u001b[32m    103\u001b[39m     )\n\u001b[32m    104\u001b[39m     \u001b[38;5;28;01mreturn\u001b[39;00m json_default(obj)\n\u001b[32m--> \u001b[39m\u001b[32m107\u001b[39m \u001b[38;5;28;01mdef\u001b[39;00m\u001b[38;5;250m \u001b[39m\u001b[34mjson_default\u001b[39m(obj: Any) -> Any:\n\u001b[32m    108\u001b[39m \u001b[38;5;250m    \u001b[39m\u001b[33;03m\"\"\"default function for packing objects in JSON.\"\"\"\u001b[39;00m\n\u001b[32m    109\u001b[39m     \u001b[38;5;28;01mif\u001b[39;00m \u001b[38;5;28misinstance\u001b[39m(obj, datetime):\n",
      "\u001b[31mKeyboardInterrupt\u001b[39m: "
     ]
    }
   ],
   "source": [
    "kernel = cv2.getStructuringElement(cv2.MORPH_ELLIPSE, (5,5))\n",
    "frame_idx = 0\n",
    "\n",
    "while True:\n",
    "    ok, frame = cap.read()\n",
    "    if not ok:\n",
    "        break\n",
    "    frame_idx += 1\n",
    "\n",
    "    roi, (offY, offX) = extract_roi(frame)\n",
    "    g = to_gray_blur(roi)\n",
    "\n",
    "    delta = cv2.absdiff(g, baseline)\n",
    "    _, mask = cv2.threshold(delta, DIFF_THRESH, 255, cv2.THRESH_BINARY)\n",
    "    mask = cv2.morphologyEx(mask, cv2.MORPH_CLOSE, kernel, iterations=2)\n",
    "    mask = cv2.morphologyEx(mask, cv2.MORPH_OPEN, kernel, iterations=1)\n",
    "    mask = cv2.dilate(mask, kernel, iterations=2)\n",
    "\n",
    "    cnts, _ = cv2.findContours(mask, cv2.RETR_EXTERNAL, cv2.CHAIN_APPROX_SIMPLE)\n",
    "    for c in cnts:\n",
    "        if cv2.contourArea(c) < MIN_AREA:\n",
    "            continue\n",
    "        x, y, w2, h2 = cv2.boundingRect(c)\n",
    "        cv2.rectangle(roi, (x, y), (x + w2, y + h2), (0, 255, 0), 2)\n",
    "\n",
    "    frame[offY:offY+roi.shape[0], offX:offX+roi.shape[1]] = roi\n",
    "    cv2.putText(frame, f\"Frame: {frame_idx}\", (20, 35),\n",
    "                cv2.FONT_HERSHEY_SIMPLEX, 1.0, (0,255,0), 2)\n",
    "\n",
    "    # Display frame in Jupyter\n",
    "    img_rgb = cv2.cvtColor(frame, cv2.COLOR_BGR2RGB)\n",
    "    img_pil = PIL.Image.fromarray(img_rgb)\n",
    "    clear_output(wait=True)\n",
    "    display(img_pil)\n",
    "\n",
    "    if WRITE_OUT:\n",
    "        out.write(frame)\n",
    "\n",
    "    time.sleep(0.0001)\n",
    "\n",
    "cap.release()\n",
    "if WRITE_OUT: out.release()\n",
    "print(\"Done.\")\n"
   ]
  }
 ],
 "metadata": {
  "kernelspec": {
   "display_name": "Python 3 (ipykernel)",
   "language": "python",
   "name": "python3"
  },
  "language_info": {
   "codemirror_mode": {
    "name": "ipython",
    "version": 3
   },
   "file_extension": ".py",
   "mimetype": "text/x-python",
   "name": "python",
   "nbconvert_exporter": "python",
   "pygments_lexer": "ipython3",
   "version": "3.12.3"
  }
 },
 "nbformat": 4,
 "nbformat_minor": 5
}
